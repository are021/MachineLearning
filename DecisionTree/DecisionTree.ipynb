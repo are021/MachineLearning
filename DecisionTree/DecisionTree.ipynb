{
 "cells": [
  {
   "cell_type": "code",
   "execution_count": 62,
   "id": "47066bf9",
   "metadata": {},
   "outputs": [
    {
     "data": {
      "text/plain": [
       "array(['HipHop'], dtype=object)"
      ]
     },
     "execution_count": 62,
     "metadata": {},
     "output_type": "execute_result"
    }
   ],
   "source": [
    "import pandas as pd\n",
    "from sklearn.tree import DecisionTreeClassifier\n",
    "from sklearn.model_selection import train_test_split\n",
    "from sklearn.metrics import accuracy_score\n",
    "import joblib\n",
    "\n",
    " \n",
    "# music_data = pd.read_csv('music.csv')\n",
    "# x = music_data.drop(columns = ['genre'])\n",
    "# y = music_data['genre']\n",
    "# x_train,x_test, y_train, y_test = train_test_split(x, y, test_size = .2)\n",
    "\n",
    "# model = DecisionTreeClassifier()\n",
    "# model.fit(x_train,y_train)\n",
    "\n",
    "joblib.load('music-reccomender.joblib')\n",
    "predictions = model.predict([[21,1]])\n",
    "# score = accuracy_score(y_test,predictions)\n",
    "# score\n",
    "predictions"
   ]
  },
  {
   "cell_type": "code",
   "execution_count": 65,
   "id": "4bfe11a5",
   "metadata": {},
   "outputs": [],
   "source": [
    "#Using Models\n",
    "from sklearn import tree\n",
    "music_data = pd.read_csv('music.csv')\n",
    "x = music_data.drop(columns = ['genre'])\n",
    "y = music_data['genre']\n",
    "model = DecisionTreeClassifier()\n",
    "model.fit(x_train,y_train)\n",
    "joblib.load('music-reccomender.joblib')\n",
    "tree.export_graphviz(model, out_file='music-recommender.dot',feature_names=['age','gender'],\n",
    "                     class_names=sorted(y.unique()),label='all',rounded = True, filled = True)"
   ]
  },
  {
   "cell_type": "code",
   "execution_count": null,
   "id": "b1f300e9",
   "metadata": {},
   "outputs": [],
   "source": []
  }
 ],
 "metadata": {
  "kernelspec": {
   "display_name": "Python 3",
   "language": "python",
   "name": "python3"
  },
  "language_info": {
   "codemirror_mode": {
    "name": "ipython",
    "version": 3
   },
   "file_extension": ".py",
   "mimetype": "text/x-python",
   "name": "python",
   "nbconvert_exporter": "python",
   "pygments_lexer": "ipython3",
   "version": "3.8.8"
  }
 },
 "nbformat": 4,
 "nbformat_minor": 5
}
